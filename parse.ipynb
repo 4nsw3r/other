{
 "cells": [
  {
   "cell_type": "code",
   "execution_count": 9,
   "metadata": {},
   "outputs": [
    {
     "name": "stdout",
     "output_type": "stream",
     "text": [
      "phone\n",
      "https://www.citilink.ru/search/?text=phone\n"
     ]
    }
   ],
   "source": [
    "\n",
    "import re\n",
    "import requests\n",
    "from bs4 import BeautifulSoup\n",
    "import pandas as pd\n",
    "pd.set_option('display.width',1000)\n",
    "\n",
    "a = input()\n",
    "\n",
    "url = 'https://www.citilink.ru/search'\n",
    "\n",
    "params = {\n",
    "    'text':f'{a}'\n",
    "}\n",
    "\n",
    "r = requests.get(url, params=params, timeout=5)\n",
    "\n",
    "if r.ok:\n",
    "    print(r.url)\n",
    "    soup = BeautifulSoup(r.text, 'html.parser')\n",
    "else:\n",
    "    print('Bad request')\n",
    "\n",
    "tv_name = soup.findAll('a', class_ = \"link_gtm-js link_pageevents-js ddl_product_link\")\n",
    "price = soup.findAll('span', class_ = \"subcategory-product-item__price subcategory-product-item__price_standart\")\n",
    "\n",
    "Name, Price, Link = [], [], []\n",
    "pattern = 'руб.'\n",
    "\n",
    "for tag_name, tag_price in zip(tv_name, price):\n",
    "    \n",
    "    \n",
    "    \n",
    "    NM = tag_name.text.strip()\n",
    "    PC = tag_price.text.strip()\n",
    "    LK = tag_name.attrs['href'].strip()\n",
    "    \n",
    "    PC = re.sub(\"^\\s+|\\n|\\r| +|\\s+$\", '', PC)\n",
    "    PC = re.sub(\"руб.+$\", '', PC)\n",
    "    \n",
    "    Name.append(NM)"
   ]
  },
  {
   "cell_type": "code",
   "execution_count": 10,
   "metadata": {},
   "outputs": [],
   "source": [
    "wtf = pd.DataFrame({'Name':Name})"
   ]
  },
  {
   "cell_type": "code",
   "execution_count": 15,
   "metadata": {},
   "outputs": [
    {
     "name": "stdout",
     "output_type": "stream",
     "text": [
      "[['Мобильный телефон ONEXT Care-Phone 5, черный']\n",
      " ['Мобильный телефон ONEXT Care-Phone 6, черный']\n",
      " ['Мобильный телефон ONEXT Care-Phone 7 черный']\n",
      " ['Мобильный телефон ONEXT Care-Phone 5, белый']\n",
      " ['Мобильный телефон ONEXT Care-Phone 6, красный']\n",
      " ['Мобильный телефон ONEXT Care-Phone 5, красный']\n",
      " ['Мобильный телефон ONEXT Care-Phone 5, синий']\n",
      " ['Зарядное устройство Unify L30250-F600-C503\\xa0OpenScape DECT Phone S5\\xa0EU']\n",
      " ['Наушники с микрофоном XIAOMI Mi\\xa0Dual Driver Earphones, USB Type-C, белый']\n",
      " ['Наушники с микрофоном HONOR Classic Earphone AM115, 3.5 мм, белый']]\n"
     ]
    }
   ],
   "source": [
    "print(wtf[:10].values)"
   ]
  }
 ],
 "metadata": {
  "kernelspec": {
   "display_name": "Python 3",
   "language": "python",
   "name": "python3"
  },
  "language_info": {
   "codemirror_mode": {
    "name": "ipython",
    "version": 3
   },
   "file_extension": ".py",
   "mimetype": "text/x-python",
   "name": "python",
   "nbconvert_exporter": "python",
   "pygments_lexer": "ipython3",
   "version": "3.7.3"
  }
 },
 "nbformat": 4,
 "nbformat_minor": 2
}
